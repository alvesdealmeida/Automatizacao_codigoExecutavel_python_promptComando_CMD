{
 "cells": [
  {
   "cell_type": "code",
   "execution_count": 12,
   "id": "2b3bd9a7",
   "metadata": {},
   "outputs": [],
   "source": [
    "import pyautogui\n",
    "import time\n",
    "import pyperclip\n",
    "pyautogui.PAUSE = 1\n",
    "\n",
    "pyautogui.press(\"winleft\")\n",
    "pyautogui.write(\"cmd\")\n",
    "pyautogui.press(\"enter\")\n",
    "\n",
    "pyautogui.write(\"cd Desktop\")\n",
    "pyautogui.press(\"enter\")\n",
    "\n",
    "\n",
    "pyautogui.write(\"copy con widget1.py\")\n",
    "pyautogui.press(\"enter\")\n",
    "\n",
    "pyautogui.write(\"from tkinter import * \")\n",
    "pyautogui.press(\"enter\")\n",
    "\n",
    "pyautogui.write(\"top = Frame(); top.pack(fill='both', expand=True) \")\n",
    "pyautogui.press(\"enter\")\n",
    "\n",
    "pyautogui.write(\"f = Frame(top); f.pack(fill='x')\")\n",
    "pyautogui.press(\"enter\")\n",
    "\n",
    "pyautogui.write(\"a = Label(f,text='A'); a.pack(side='left',expand=True, fill='y')\")\n",
    "pyautogui.press(\"enter\")\n",
    "\n",
    "pyautogui.write(\"b = Label(f,text='B'); b.pack(side='bottom',expand=True, fill='both')\")\n",
    "pyautogui.press(\"enter\")\n",
    "\n",
    "pyautogui.write(\"c = Label(f,text='C'); c.pack(side='right')\")\n",
    "pyautogui.press(\"enter\")\n",
    "\n",
    "pyautogui.write(\"d = Label(top,text='D'); d.pack(side='top')\")\n",
    "pyautogui.press(\"enter\")\n",
    "\n",
    "pyautogui.write(\"for w in (a,b,c,d):\")\n",
    "pyautogui.press(\"enter\")\n",
    "\n",
    "pyautogui.press(\"tab\")\n",
    "pyautogui.write(\"w.configure(relief='groove', border=10, font='Time 24 bold')\")\n",
    "pyautogui.press(\"enter\")\n",
    "\n",
    "pyautogui.press(\"tab\")\n",
    "pyautogui.write(\"w.pack(side='left', expand=True, fill='both')\")\n",
    "pyautogui.press(\"enter\")\n",
    "\n",
    "pyautogui.write(\"top.mainloop()\")\n",
    "pyautogui.press(\"enter\")\n",
    "\n",
    "pyautogui.hotkey(\"ctrl\",\"z\")\n",
    "pyautogui.press(\"enter\")\n",
    "\n",
    "pyautogui.write(\"python widget1.py\")\n",
    "pyautogui.press(\"enter\")\n",
    "\n"
   ]
  },
  {
   "cell_type": "markdown",
   "id": "46b159df",
   "metadata": {},
   "source": []
  },
  {
   "cell_type": "code",
   "execution_count": null,
   "id": "a04d72ef",
   "metadata": {},
   "outputs": [],
   "source": []
  }
 ],
 "metadata": {
  "kernelspec": {
   "display_name": "Python 3",
   "language": "python",
   "name": "python3"
  },
  "language_info": {
   "codemirror_mode": {
    "name": "ipython",
    "version": 3
   },
   "file_extension": ".py",
   "mimetype": "text/x-python",
   "name": "python",
   "nbconvert_exporter": "python",
   "pygments_lexer": "ipython3",
   "version": "3.8.8"
  }
 },
 "nbformat": 4,
 "nbformat_minor": 5
}
